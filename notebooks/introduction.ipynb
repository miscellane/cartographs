{
 "cells": [
  {
   "cell_type": "markdown",
   "metadata": {},
   "source": [
    "**References**\n",
    "\n",
    "* [Legal/Statistical Area Description (LSAD)](https://www.census.gov/library/reference/code-lists/legal-status-codes.html)\n",
    "* The cartographic boundary files used by this notebook are courtesy of the United States Census Bureau.\n",
    "  * [Shapefiles](https://www2.census.gov/geo/tiger/)\n",
    "  * Thus far, only the [2018 shapefiles have been used](https://www2.census.gov/geo/tiger/GENZ2018/)\n",
    "* [Gazetteer Files](https://www.census.gov/geographies/reference-files/time-series/geo/gazetteer-files.html)\n",
    "* [Gazetteer File Record Layout](https://www.census.gov/programs-surveys/geography/technical-documentation/records-layout/gaz-record-layouts.html): Includes explanatory notes for a variety of field names used in a variety of Census Bureau geographic files.  The names tend to be standard U.S. geographic codes.\n",
    "\n",
    "\n",
    "<br>"
   ]
  },
  {
   "cell_type": "markdown",
   "metadata": {},
   "source": [
    "## Preliminaries"
   ]
  },
  {
   "cell_type": "code",
   "execution_count": 1,
   "metadata": {},
   "outputs": [],
   "source": [
    "!rm -rf *.sh"
   ]
  },
  {
   "cell_type": "markdown",
   "metadata": {},
   "source": [
    "<br>\n",
    "\n",
    "### Packages"
   ]
  },
  {
   "cell_type": "code",
   "execution_count": 2,
   "metadata": {},
   "outputs": [],
   "source": [
    "import subprocess"
   ]
  },
  {
   "cell_type": "code",
   "execution_count": 3,
   "metadata": {},
   "outputs": [],
   "source": [
    "if 'google.colab' in str(get_ipython()):\n",
    "    subprocess.run('wget -q https://raw.githubusercontent.com/miscellane/cartographs/develop/...sh', shell=True)\n",
    "    subprocess.run('chmod u+x scripts.sh', shell=True)\n",
    "    subprocess.run('./scripts.sh', shell=True)"
   ]
  },
  {
   "cell_type": "markdown",
   "metadata": {},
   "source": [
    "<br>\n",
    "\n",
    "### Paths"
   ]
  },
  {
   "cell_type": "code",
   "execution_count": 4,
   "metadata": {},
   "outputs": [],
   "source": [
    "import os\n",
    "import pathlib\n",
    "import sys"
   ]
  },
  {
   "cell_type": "code",
   "execution_count": 5,
   "metadata": {},
   "outputs": [],
   "source": [
    "if not 'google.colab' in str(get_ipython()):    \n",
    "    notebooks = os.getcwd()\n",
    "    parent = str(pathlib.Path(notebooks).parent)\n",
    "    sys.path.append(parent)\n",
    "else:\n",
    "    notebooks = os.getcwd()\n",
    "    parent = notebooks"
   ]
  },
  {
   "cell_type": "markdown",
   "metadata": {},
   "source": [
    "<br>\n",
    "\n",
    "Warehouse"
   ]
  },
  {
   "cell_type": "code",
   "execution_count": 6,
   "metadata": {},
   "outputs": [],
   "source": [
    "warehouse = os.path.join(parent, 'warehouse', 'gazetteer')\n",
    "\n",
    "if not os.path.exists(warehouse):\n",
    "    os.makedirs(warehouse)"
   ]
  },
  {
   "cell_type": "markdown",
   "metadata": {},
   "source": [
    "<br>\n",
    "\n",
    "### Libraries"
   ]
  },
  {
   "cell_type": "code",
   "execution_count": 7,
   "metadata": {},
   "outputs": [],
   "source": [
    "import logging\n",
    "import collections\n",
    "\n",
    "import pandas as pd\n",
    "import numpy as np\n",
    "\n",
    "import json"
   ]
  },
  {
   "cell_type": "markdown",
   "metadata": {},
   "source": [
    "<br>\n",
    "\n",
    "### Logging"
   ]
  },
  {
   "cell_type": "code",
   "execution_count": 8,
   "metadata": {},
   "outputs": [],
   "source": [
    "logging.basicConfig(level=logging.INFO, format='%(message)s\\n%(asctime)s.%(msecs)03d', datefmt='%Y-%m-%d %H:%M:%S')\n",
    "logger = logging.getLogger(__name__)"
   ]
  },
  {
   "cell_type": "markdown",
   "metadata": {},
   "source": [
    "<br>\n",
    "\n",
    "### Custom"
   ]
  },
  {
   "cell_type": "code",
   "execution_count": 9,
   "metadata": {},
   "outputs": [],
   "source": [
    "import cartographs.boundaries.us.boundaries\n",
    "import cartographs.boundaries.us.settings"
   ]
  },
  {
   "cell_type": "code",
   "execution_count": 10,
   "metadata": {},
   "outputs": [],
   "source": [
    "settings = cartographs.boundaries.us.settings.Settings()\n",
    "boundaries = cartographs.boundaries.us.boundaries.Boundaries(crs=settings.crs)"
   ]
  },
  {
   "cell_type": "markdown",
   "metadata": {},
   "source": [
    "<br>\n",
    "<br>\n",
    "\n",
    "## Geographies"
   ]
  },
  {
   "cell_type": "markdown",
   "metadata": {},
   "source": [
    "### States"
   ]
  },
  {
   "cell_type": "code",
   "execution_count": 11,
   "metadata": {},
   "outputs": [
    {
     "name": "stderr",
     "output_type": "stream",
     "text": [
      "None\n",
      "2021-06-14 19:28:09.699\n"
     ]
    },
    {
     "name": "stdout",
     "output_type": "stream",
     "text": [
      "<class 'geopandas.geodataframe.GeoDataFrame'>\n",
      "RangeIndex: 56 entries, 0 to 55\n",
      "Data columns (total 10 columns):\n",
      " #   Column    Non-Null Count  Dtype   \n",
      "---  ------    --------------  -----   \n",
      " 0   STATEFP   56 non-null     object  \n",
      " 1   STATENS   56 non-null     object  \n",
      " 2   AFFGEOID  56 non-null     object  \n",
      " 3   GEOID     56 non-null     object  \n",
      " 4   STUSPS    56 non-null     object  \n",
      " 5   NAME      56 non-null     object  \n",
      " 6   LSAD      56 non-null     object  \n",
      " 7   ALAND     56 non-null     int64   \n",
      " 8   AWATER    56 non-null     int64   \n",
      " 9   geometry  56 non-null     geometry\n",
      "dtypes: geometry(1), int64(2), object(7)\n",
      "memory usage: 4.5+ KB\n"
     ]
    }
   ],
   "source": [
    "states: pd.DataFrame = boundaries.states(year=settings.latest)\n",
    "logger.info(states.info())"
   ]
  },
  {
   "cell_type": "markdown",
   "metadata": {},
   "source": [
    "<br>\n",
    "\n",
    "Names"
   ]
  },
  {
   "cell_type": "code",
   "execution_count": 12,
   "metadata": {},
   "outputs": [],
   "source": [
    "states.rename(columns={'GEOID': 'STATEGEOID', 'AFFGEOID': 'STATEAFFGEOID', 'NAME': 'STATE', \n",
    "                       'ALAND': 'STATESQMLAND', 'AWATER': 'STATESQMWATER'}, inplace=True)"
   ]
  },
  {
   "cell_type": "code",
   "execution_count": 13,
   "metadata": {},
   "outputs": [],
   "source": [
    "states.rename(str.lower, axis='columns', inplace=True)"
   ]
  },
  {
   "cell_type": "markdown",
   "metadata": {},
   "source": [
    "<br>\n",
    "\n",
    "Coördinates"
   ]
  },
  {
   "cell_type": "code",
   "execution_count": 14,
   "metadata": {},
   "outputs": [],
   "source": [
    "states.loc[:, 'latitude'] = states.centroid.y\n",
    "states.loc[:, 'longitude'] = states.centroid.x"
   ]
  },
  {
   "cell_type": "markdown",
   "metadata": {},
   "source": [
    "<br>\n",
    "\n",
    "Preview"
   ]
  },
  {
   "cell_type": "code",
   "execution_count": 15,
   "metadata": {},
   "outputs": [
    {
     "name": "stderr",
     "output_type": "stream",
     "text": [
      "  statefp   statens stateaffgeoid stategeoid stusps           state lsad  \\\n",
      "0      28  01779790   0400000US28         28     MS     Mississippi   00   \n",
      "1      37  01027616   0400000US37         37     NC  North Carolina   00   \n",
      "2      40  01102857   0400000US40         40     OK        Oklahoma   00   \n",
      "3      51  01779803   0400000US51         51     VA        Virginia   00   \n",
      "4      54  01779805   0400000US54         54     WV   West Virginia   00   \n",
      "\n",
      "   statesqmland  statesqmwater  \\\n",
      "0  121533519481     3926919758   \n",
      "1  125923656064    13466071395   \n",
      "2  177662925723     3374587997   \n",
      "3  102257717110     8528531774   \n",
      "4   62266474513      489028543   \n",
      "\n",
      "                                            geometry   latitude  longitude  \n",
      "0  MULTIPOLYGON (((-88.50297 30.21523, -88.49176 ...  32.750861 -89.665208  \n",
      "1  MULTIPOLYGON (((-75.72681 35.93584, -75.71827 ...  35.541527 -79.372377  \n",
      "2  POLYGON ((-103.00257 36.52659, -103.00219 36.6...  35.583479 -97.508285  \n",
      "3  MULTIPOLYGON (((-75.74241 37.80835, -75.74151 ...  37.515016 -78.812252  \n",
      "4  POLYGON ((-82.64320 38.16909, -82.64300 38.169...  38.642579 -80.613728  \n",
      "2021-06-14 19:28:09.779\n"
     ]
    }
   ],
   "source": [
    "logger.info(states.head())"
   ]
  },
  {
   "cell_type": "markdown",
   "metadata": {},
   "source": [
    "<br>\n",
    "\n",
    "### Counties"
   ]
  },
  {
   "cell_type": "code",
   "execution_count": 16,
   "metadata": {},
   "outputs": [
    {
     "name": "stderr",
     "output_type": "stream",
     "text": [
      "None\n",
      "2021-06-14 19:28:22.069\n"
     ]
    },
    {
     "name": "stdout",
     "output_type": "stream",
     "text": [
      "<class 'geopandas.geodataframe.GeoDataFrame'>\n",
      "RangeIndex: 3233 entries, 0 to 3232\n",
      "Data columns (total 10 columns):\n",
      " #   Column    Non-Null Count  Dtype   \n",
      "---  ------    --------------  -----   \n",
      " 0   STATEFP   3233 non-null   object  \n",
      " 1   COUNTYFP  3233 non-null   object  \n",
      " 2   COUNTYNS  3233 non-null   object  \n",
      " 3   AFFGEOID  3233 non-null   object  \n",
      " 4   GEOID     3233 non-null   object  \n",
      " 5   NAME      3233 non-null   object  \n",
      " 6   LSAD      3233 non-null   object  \n",
      " 7   ALAND     3233 non-null   int64   \n",
      " 8   AWATER    3233 non-null   int64   \n",
      " 9   geometry  3233 non-null   geometry\n",
      "dtypes: geometry(1), int64(2), object(7)\n",
      "memory usage: 252.7+ KB\n"
     ]
    }
   ],
   "source": [
    "counties = boundaries.counties(year=settings.latest)\n",
    "logger.info(counties.info())"
   ]
  },
  {
   "cell_type": "markdown",
   "metadata": {},
   "source": [
    "<br>\n",
    "\n",
    "Names"
   ]
  },
  {
   "cell_type": "code",
   "execution_count": 17,
   "metadata": {},
   "outputs": [],
   "source": [
    "counties.rename(columns={'AFFGEOID': 'COUNTYAFFGEOID', 'GEOID': 'COUNTYGEOID', 'NAME': 'COUNTY', \n",
    "                        'ALAND': 'COUNTYSQMLAND', 'AWATER': 'COUNTYSQMWATER'}, inplace=True)"
   ]
  },
  {
   "cell_type": "code",
   "execution_count": 18,
   "metadata": {},
   "outputs": [],
   "source": [
    "counties.rename(str.lower, axis='columns', inplace=True)"
   ]
  },
  {
   "cell_type": "markdown",
   "metadata": {},
   "source": [
    "<br>\n",
    "\n",
    "Coördinates"
   ]
  },
  {
   "cell_type": "code",
   "execution_count": 19,
   "metadata": {},
   "outputs": [],
   "source": [
    "counties.loc[:, 'latitude'] = counties.centroid.y\n",
    "counties.loc[:, 'longitude'] = counties.centroid.x"
   ]
  },
  {
   "cell_type": "markdown",
   "metadata": {},
   "source": [
    "<br>\n",
    "\n",
    "Preview"
   ]
  },
  {
   "cell_type": "code",
   "execution_count": 20,
   "metadata": {},
   "outputs": [
    {
     "name": "stderr",
     "output_type": "stream",
     "text": [
      "  statefp countyfp  countyns  countyaffgeoid countygeoid   county lsad  \\\n",
      "0      21      007  00516850  0500000US21007       21007  Ballard   06   \n",
      "1      21      017  00516855  0500000US21017       21017  Bourbon   06   \n",
      "2      21      031  00516862  0500000US21031       21031   Butler   06   \n",
      "3      21      065  00516879  0500000US21065       21065   Estill   06   \n",
      "4      21      069  00516881  0500000US21069       21069  Fleming   06   \n",
      "\n",
      "   countysqmland  countysqmwater  \\\n",
      "0      639387454        69473325   \n",
      "1      750439351         4829777   \n",
      "2     1103571974        13943044   \n",
      "3      655509930         6516335   \n",
      "4      902727151         7182793   \n",
      "\n",
      "                                            geometry   latitude  longitude  \n",
      "0  POLYGON ((-89.18137 37.04630, -89.17938 37.053...  37.058482 -88.999256  \n",
      "1  POLYGON ((-84.44266 38.28324, -84.44114 38.283...  38.206735 -84.217151  \n",
      "2  POLYGON ((-86.94486 37.07341, -86.94346 37.074...  37.207285 -86.681623  \n",
      "3  POLYGON ((-84.12662 37.64540, -84.12483 37.646...  37.692444 -83.964311  \n",
      "4  POLYGON ((-83.98428 38.44549, -83.98246 38.450...  38.370118 -83.696656  \n",
      "2021-06-14 19:28:22.439\n"
     ]
    }
   ],
   "source": [
    "logger.info(counties.head())"
   ]
  },
  {
   "cell_type": "markdown",
   "metadata": {},
   "source": [
    "<br>\n",
    "<br>\n",
    "\n",
    "## Gazetteer"
   ]
  },
  {
   "cell_type": "code",
   "execution_count": 21,
   "metadata": {},
   "outputs": [
    {
     "name": "stderr",
     "output_type": "stream",
     "text": [
      "None\n",
      "2021-06-14 19:28:22.489\n"
     ]
    },
    {
     "name": "stdout",
     "output_type": "stream",
     "text": [
      "<class 'pandas.core.frame.DataFrame'>\n",
      "Int64Index: 3233 entries, 0 to 3232\n",
      "Data columns (total 10 columns):\n",
      " #   Column          Non-Null Count  Dtype  \n",
      "---  ------          --------------  -----  \n",
      " 0   statefp         3233 non-null   object \n",
      " 1   countyfp        3233 non-null   object \n",
      " 2   countygeoid     3233 non-null   object \n",
      " 3   county          3233 non-null   object \n",
      " 4   countysqmland   3233 non-null   int64  \n",
      " 5   countysqmwater  3233 non-null   int64  \n",
      " 6   latitude        3233 non-null   float64\n",
      " 7   longitude       3233 non-null   float64\n",
      " 8   stusps          3233 non-null   object \n",
      " 9   state           3233 non-null   object \n",
      "dtypes: float64(2), int64(2), object(6)\n",
      "memory usage: 277.8+ KB\n"
     ]
    }
   ],
   "source": [
    "gazetteer = counties[['statefp', 'countyfp', 'countygeoid', 'county', 'countysqmland', 'countysqmwater', 'latitude', 'longitude']].\\\n",
    "merge(states[['statefp', 'stusps', 'state']], how='left', on='statefp')\n",
    "\n",
    "logger.info(gazetteer.info())"
   ]
  },
  {
   "cell_type": "markdown",
   "metadata": {},
   "source": [
    "<br>\n",
    "\n",
    "Save"
   ]
  },
  {
   "cell_type": "code",
   "execution_count": 22,
   "metadata": {},
   "outputs": [],
   "source": [
    "gazetteer.to_csv(path_or_buf=os.path.join(warehouse, 'countylevel.csv'), index=False, encoding='UTF-8', header=True)"
   ]
  }
 ],
 "metadata": {
  "kernelspec": {
   "display_name": "Python 3",
   "language": "python",
   "name": "python3"
  },
  "language_info": {
   "codemirror_mode": {
    "name": "ipython",
    "version": 3
   },
   "file_extension": ".py",
   "mimetype": "text/x-python",
   "name": "python",
   "nbconvert_exporter": "python",
   "pygments_lexer": "ipython3",
   "version": "3.7.7"
  },
  "toc-autonumbering": false
 },
 "nbformat": 4,
 "nbformat_minor": 4
}
